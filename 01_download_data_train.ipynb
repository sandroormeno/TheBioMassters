{
  "nbformat": 4,
  "nbformat_minor": 0,
  "metadata": {
    "colab": {
      "provenance": []
    },
    "kernelspec": {
      "name": "python3",
      "display_name": "Python 3"
    },
    "language_info": {
      "name": "python"
    }
  },
  "cells": [
    {
      "cell_type": "code",
      "execution_count": 1,
      "metadata": {
        "id": "3h6xJVABL58a"
      },
      "outputs": [],
      "source": [
        "import pandas as pd"
      ]
    },
    {
      "cell_type": "code",
      "source": [
        "url  = 'https://raw.githubusercontent.com/sandroormeno/TheBioMassters/main/features_metadata.csv'"
      ],
      "metadata": {
        "id": "QyuxvcgaMTRS"
      },
      "execution_count": 2,
      "outputs": []
    },
    {
      "cell_type": "code",
      "source": [
        "df = pd.read_csv(url)\n",
        "df.head()"
      ],
      "metadata": {
        "colab": {
          "base_uri": "https://localhost:8080/",
          "height": 424
        },
        "id": "CncLgsT0MhLb",
        "outputId": "72583571-6656-441d-9b4e-8203ee3cb6b4"
      },
      "execution_count": 3,
      "outputs": [
        {
          "output_type": "execute_result",
          "data": {
            "text/plain": [
              "             filename   chip_id satellite  split      month     size  \\\n",
              "0  0003d2eb_S1_00.tif  0003d2eb        S1  train  September  1049524   \n",
              "1  0003d2eb_S1_01.tif  0003d2eb        S1  train    October  1049524   \n",
              "2  0003d2eb_S1_02.tif  0003d2eb        S1  train   November  1049524   \n",
              "3  0003d2eb_S1_03.tif  0003d2eb        S1  train   December  1049524   \n",
              "4  0003d2eb_S1_04.tif  0003d2eb        S1  train    January  1049524   \n",
              "\n",
              "        cksum                                          s3path_us  \\\n",
              "0  3953454613  s3://drivendata-competition-biomassters-public...   \n",
              "1  3531005382  s3://drivendata-competition-biomassters-public...   \n",
              "2  1401197002  s3://drivendata-competition-biomassters-public...   \n",
              "3  3253084255  s3://drivendata-competition-biomassters-public...   \n",
              "4  2467836265  s3://drivendata-competition-biomassters-public...   \n",
              "\n",
              "                                           s3path_eu  \\\n",
              "0  s3://drivendata-competition-biomassters-public...   \n",
              "1  s3://drivendata-competition-biomassters-public...   \n",
              "2  s3://drivendata-competition-biomassters-public...   \n",
              "3  s3://drivendata-competition-biomassters-public...   \n",
              "4  s3://drivendata-competition-biomassters-public...   \n",
              "\n",
              "                                           s3path_as corresponding_agbm  \n",
              "0  s3://drivendata-competition-biomassters-public...  0003d2eb_agbm.tif  \n",
              "1  s3://drivendata-competition-biomassters-public...  0003d2eb_agbm.tif  \n",
              "2  s3://drivendata-competition-biomassters-public...  0003d2eb_agbm.tif  \n",
              "3  s3://drivendata-competition-biomassters-public...  0003d2eb_agbm.tif  \n",
              "4  s3://drivendata-competition-biomassters-public...  0003d2eb_agbm.tif  "
            ],
            "text/html": [
              "\n",
              "  <div id=\"df-80cf881b-c93a-4f3d-bb9b-77bc3e74886e\">\n",
              "    <div class=\"colab-df-container\">\n",
              "      <div>\n",
              "<style scoped>\n",
              "    .dataframe tbody tr th:only-of-type {\n",
              "        vertical-align: middle;\n",
              "    }\n",
              "\n",
              "    .dataframe tbody tr th {\n",
              "        vertical-align: top;\n",
              "    }\n",
              "\n",
              "    .dataframe thead th {\n",
              "        text-align: right;\n",
              "    }\n",
              "</style>\n",
              "<table border=\"1\" class=\"dataframe\">\n",
              "  <thead>\n",
              "    <tr style=\"text-align: right;\">\n",
              "      <th></th>\n",
              "      <th>filename</th>\n",
              "      <th>chip_id</th>\n",
              "      <th>satellite</th>\n",
              "      <th>split</th>\n",
              "      <th>month</th>\n",
              "      <th>size</th>\n",
              "      <th>cksum</th>\n",
              "      <th>s3path_us</th>\n",
              "      <th>s3path_eu</th>\n",
              "      <th>s3path_as</th>\n",
              "      <th>corresponding_agbm</th>\n",
              "    </tr>\n",
              "  </thead>\n",
              "  <tbody>\n",
              "    <tr>\n",
              "      <th>0</th>\n",
              "      <td>0003d2eb_S1_00.tif</td>\n",
              "      <td>0003d2eb</td>\n",
              "      <td>S1</td>\n",
              "      <td>train</td>\n",
              "      <td>September</td>\n",
              "      <td>1049524</td>\n",
              "      <td>3953454613</td>\n",
              "      <td>s3://drivendata-competition-biomassters-public...</td>\n",
              "      <td>s3://drivendata-competition-biomassters-public...</td>\n",
              "      <td>s3://drivendata-competition-biomassters-public...</td>\n",
              "      <td>0003d2eb_agbm.tif</td>\n",
              "    </tr>\n",
              "    <tr>\n",
              "      <th>1</th>\n",
              "      <td>0003d2eb_S1_01.tif</td>\n",
              "      <td>0003d2eb</td>\n",
              "      <td>S1</td>\n",
              "      <td>train</td>\n",
              "      <td>October</td>\n",
              "      <td>1049524</td>\n",
              "      <td>3531005382</td>\n",
              "      <td>s3://drivendata-competition-biomassters-public...</td>\n",
              "      <td>s3://drivendata-competition-biomassters-public...</td>\n",
              "      <td>s3://drivendata-competition-biomassters-public...</td>\n",
              "      <td>0003d2eb_agbm.tif</td>\n",
              "    </tr>\n",
              "    <tr>\n",
              "      <th>2</th>\n",
              "      <td>0003d2eb_S1_02.tif</td>\n",
              "      <td>0003d2eb</td>\n",
              "      <td>S1</td>\n",
              "      <td>train</td>\n",
              "      <td>November</td>\n",
              "      <td>1049524</td>\n",
              "      <td>1401197002</td>\n",
              "      <td>s3://drivendata-competition-biomassters-public...</td>\n",
              "      <td>s3://drivendata-competition-biomassters-public...</td>\n",
              "      <td>s3://drivendata-competition-biomassters-public...</td>\n",
              "      <td>0003d2eb_agbm.tif</td>\n",
              "    </tr>\n",
              "    <tr>\n",
              "      <th>3</th>\n",
              "      <td>0003d2eb_S1_03.tif</td>\n",
              "      <td>0003d2eb</td>\n",
              "      <td>S1</td>\n",
              "      <td>train</td>\n",
              "      <td>December</td>\n",
              "      <td>1049524</td>\n",
              "      <td>3253084255</td>\n",
              "      <td>s3://drivendata-competition-biomassters-public...</td>\n",
              "      <td>s3://drivendata-competition-biomassters-public...</td>\n",
              "      <td>s3://drivendata-competition-biomassters-public...</td>\n",
              "      <td>0003d2eb_agbm.tif</td>\n",
              "    </tr>\n",
              "    <tr>\n",
              "      <th>4</th>\n",
              "      <td>0003d2eb_S1_04.tif</td>\n",
              "      <td>0003d2eb</td>\n",
              "      <td>S1</td>\n",
              "      <td>train</td>\n",
              "      <td>January</td>\n",
              "      <td>1049524</td>\n",
              "      <td>2467836265</td>\n",
              "      <td>s3://drivendata-competition-biomassters-public...</td>\n",
              "      <td>s3://drivendata-competition-biomassters-public...</td>\n",
              "      <td>s3://drivendata-competition-biomassters-public...</td>\n",
              "      <td>0003d2eb_agbm.tif</td>\n",
              "    </tr>\n",
              "  </tbody>\n",
              "</table>\n",
              "</div>\n",
              "      <button class=\"colab-df-convert\" onclick=\"convertToInteractive('df-80cf881b-c93a-4f3d-bb9b-77bc3e74886e')\"\n",
              "              title=\"Convert this dataframe to an interactive table.\"\n",
              "              style=\"display:none;\">\n",
              "        \n",
              "  <svg xmlns=\"http://www.w3.org/2000/svg\" height=\"24px\"viewBox=\"0 0 24 24\"\n",
              "       width=\"24px\">\n",
              "    <path d=\"M0 0h24v24H0V0z\" fill=\"none\"/>\n",
              "    <path d=\"M18.56 5.44l.94 2.06.94-2.06 2.06-.94-2.06-.94-.94-2.06-.94 2.06-2.06.94zm-11 1L8.5 8.5l.94-2.06 2.06-.94-2.06-.94L8.5 2.5l-.94 2.06-2.06.94zm10 10l.94 2.06.94-2.06 2.06-.94-2.06-.94-.94-2.06-.94 2.06-2.06.94z\"/><path d=\"M17.41 7.96l-1.37-1.37c-.4-.4-.92-.59-1.43-.59-.52 0-1.04.2-1.43.59L10.3 9.45l-7.72 7.72c-.78.78-.78 2.05 0 2.83L4 21.41c.39.39.9.59 1.41.59.51 0 1.02-.2 1.41-.59l7.78-7.78 2.81-2.81c.8-.78.8-2.07 0-2.86zM5.41 20L4 18.59l7.72-7.72 1.47 1.35L5.41 20z\"/>\n",
              "  </svg>\n",
              "      </button>\n",
              "      \n",
              "  <style>\n",
              "    .colab-df-container {\n",
              "      display:flex;\n",
              "      flex-wrap:wrap;\n",
              "      gap: 12px;\n",
              "    }\n",
              "\n",
              "    .colab-df-convert {\n",
              "      background-color: #E8F0FE;\n",
              "      border: none;\n",
              "      border-radius: 50%;\n",
              "      cursor: pointer;\n",
              "      display: none;\n",
              "      fill: #1967D2;\n",
              "      height: 32px;\n",
              "      padding: 0 0 0 0;\n",
              "      width: 32px;\n",
              "    }\n",
              "\n",
              "    .colab-df-convert:hover {\n",
              "      background-color: #E2EBFA;\n",
              "      box-shadow: 0px 1px 2px rgba(60, 64, 67, 0.3), 0px 1px 3px 1px rgba(60, 64, 67, 0.15);\n",
              "      fill: #174EA6;\n",
              "    }\n",
              "\n",
              "    [theme=dark] .colab-df-convert {\n",
              "      background-color: #3B4455;\n",
              "      fill: #D2E3FC;\n",
              "    }\n",
              "\n",
              "    [theme=dark] .colab-df-convert:hover {\n",
              "      background-color: #434B5C;\n",
              "      box-shadow: 0px 1px 3px 1px rgba(0, 0, 0, 0.15);\n",
              "      filter: drop-shadow(0px 1px 2px rgba(0, 0, 0, 0.3));\n",
              "      fill: #FFFFFF;\n",
              "    }\n",
              "  </style>\n",
              "\n",
              "      <script>\n",
              "        const buttonEl =\n",
              "          document.querySelector('#df-80cf881b-c93a-4f3d-bb9b-77bc3e74886e button.colab-df-convert');\n",
              "        buttonEl.style.display =\n",
              "          google.colab.kernel.accessAllowed ? 'block' : 'none';\n",
              "\n",
              "        async function convertToInteractive(key) {\n",
              "          const element = document.querySelector('#df-80cf881b-c93a-4f3d-bb9b-77bc3e74886e');\n",
              "          const dataTable =\n",
              "            await google.colab.kernel.invokeFunction('convertToInteractive',\n",
              "                                                     [key], {});\n",
              "          if (!dataTable) return;\n",
              "\n",
              "          const docLinkHtml = 'Like what you see? Visit the ' +\n",
              "            '<a target=\"_blank\" href=https://colab.research.google.com/notebooks/data_table.ipynb>data table notebook</a>'\n",
              "            + ' to learn more about interactive tables.';\n",
              "          element.innerHTML = '';\n",
              "          dataTable['output_type'] = 'display_data';\n",
              "          await google.colab.output.renderOutput(dataTable, element);\n",
              "          const docLink = document.createElement('div');\n",
              "          docLink.innerHTML = docLinkHtml;\n",
              "          element.appendChild(docLink);\n",
              "        }\n",
              "      </script>\n",
              "    </div>\n",
              "  </div>\n",
              "  "
            ]
          },
          "metadata": {},
          "execution_count": 3
        }
      ]
    },
    {
      "cell_type": "code",
      "source": [
        "chip_id = df['chip_id'].unique()\n",
        "len(chip_id)"
      ],
      "metadata": {
        "colab": {
          "base_uri": "https://localhost:8080/"
        },
        "id": "71YjGKwiMvmQ",
        "outputId": "c9ffb7fd-6f78-47f8-9f25-3a26d8b91c1a"
      },
      "execution_count": 4,
      "outputs": [
        {
          "output_type": "execute_result",
          "data": {
            "text/plain": [
              "11462"
            ]
          },
          "metadata": {},
          "execution_count": 4
        }
      ]
    },
    {
      "cell_type": "code",
      "source": [
        "month = df['month'].unique()\n",
        "month"
      ],
      "metadata": {
        "colab": {
          "base_uri": "https://localhost:8080/"
        },
        "id": "AYtUHDHWM4w4",
        "outputId": "f0718b1b-fb24-447a-aa27-1bd9abcfb874"
      },
      "execution_count": 5,
      "outputs": [
        {
          "output_type": "execute_result",
          "data": {
            "text/plain": [
              "array(['September', 'October', 'November', 'December', 'January',\n",
              "       'February', 'March', 'April', 'May', 'June', 'July', 'August'],\n",
              "      dtype=object)"
            ]
          },
          "metadata": {},
          "execution_count": 5
        }
      ]
    },
    {
      "cell_type": "code",
      "source": [
        "ver = df['s3path_us'][0]\n",
        "archivo = df['filename'][0]\n",
        "ver, archivo"
      ],
      "metadata": {
        "colab": {
          "base_uri": "https://localhost:8080/"
        },
        "id": "eJsztdOgNGYh",
        "outputId": "f09c0197-cbb6-427d-b49d-ad1d1cd652c2"
      },
      "execution_count": 6,
      "outputs": [
        {
          "output_type": "execute_result",
          "data": {
            "text/plain": [
              "('s3://drivendata-competition-biomassters-public-us/train_features/0003d2eb_S1_00.tif',\n",
              " '0003d2eb_S1_00.tif')"
            ]
          },
          "metadata": {},
          "execution_count": 6
        }
      ]
    },
    {
      "cell_type": "code",
      "source": [
        "# all you need to install\n",
        "%%capture\n",
        "!pip install awscli\n",
        "!pip install rasterio"
      ],
      "metadata": {
        "id": "OioyBKrFNM1E"
      },
      "execution_count": 7,
      "outputs": []
    },
    {
      "cell_type": "code",
      "source": [
        "%%capture\n",
        "!aws s3 cp {ver} ./ --no-sign-request"
      ],
      "metadata": {
        "id": "Yj1WCawCNZ8Y"
      },
      "execution_count": 8,
      "outputs": []
    },
    {
      "cell_type": "code",
      "source": [
        "import rasterio as rio\n",
        "ds = rio.open(archivo)\n",
        "ds.indexes"
      ],
      "metadata": {
        "colab": {
          "base_uri": "https://localhost:8080/"
        },
        "id": "vtp_Zfj-Nf2j",
        "outputId": "0d2bc121-9703-45ff-e2fd-09e71f657eeb"
      },
      "execution_count": 9,
      "outputs": [
        {
          "output_type": "stream",
          "name": "stderr",
          "text": [
            "/usr/local/lib/python3.8/dist-packages/rasterio/__init__.py:304: NotGeoreferencedWarning: Dataset has no geotransform, gcps, or rpcs. The identity matrix will be returned.\n",
            "  dataset = DatasetReader(path, driver=driver, sharing=sharing, **kwargs)\n"
          ]
        },
        {
          "output_type": "execute_result",
          "data": {
            "text/plain": [
              "(1, 2, 3, 4)"
            ]
          },
          "metadata": {},
          "execution_count": 9
        }
      ]
    },
    {
      "cell_type": "code",
      "source": [
        "import matplotlib.pyplot as plt\n",
        "x = ds.read(1)\n",
        "plt.imshow(x)\n",
        "plt.axis('off')\n",
        "plt.show()\n",
        "x.shape, x.min(), x.max(), x.dtype"
      ],
      "metadata": {
        "colab": {
          "base_uri": "https://localhost:8080/",
          "height": 265
        },
        "id": "x9_8NckpNlM4",
        "outputId": "96119820-d582-48d7-a708-cf12c6c8dac2"
      },
      "execution_count": 10,
      "outputs": [
        {
          "output_type": "display_data",
          "data": {
            "text/plain": [
              "<Figure size 432x288 with 1 Axes>"
            ],
            "image/png": "[encoded data removed]"
          },
          "metadata": {
            "needs_background": "light"
          }
        },
        {
          "output_type": "execute_result",
          "data": {
            "text/plain": [
              "((256, 256), -22.103586, -3.264444, dtype('float32'))"
            ]
          },
          "metadata": {},
          "execution_count": 10
        }
      ]
    },
    {
      "cell_type": "markdown",
      "source": [
        "para S2 tenemos un total de 114882 imágenes.<br>\n",
        "y para los meses:\n",
        "- 'September': 6860,\n",
        "- 'October': 6860,\n",
        "- 'November': 6121,\n",
        "- 'December': 1251,\n",
        "- 'January': 5242,\n",
        "- 'February': 6860,\n",
        "- 'March': 8171,\n",
        "- 'April': 8689,\n",
        "- 'May': 8689,\n",
        "- 'June': 8689,\n",
        "- 'July': 8689,\n",
        "- 'August': 8689\n"
      ],
      "metadata": {
        "id": "WQ-nzY7GOTQa"
      }
    },
    {
      "cell_type": "code",
      "source": [
        "!rm -r sample_data"
      ],
      "metadata": {
        "id": "sKLYoeV1S2Mw"
      },
      "execution_count": 20,
      "outputs": []
    },
    {
      "cell_type": "code",
      "source": [
        "# esto crea las carpetas destino\n",
        "import os\n",
        "!rm -r '/content/data'\n",
        "path_data = \"data\"\n",
        "path_train = \"train\"\n",
        "path_sep = \"August\"\n",
        "path_sensor = ['s1', 's2', 's3']\n",
        "os.mkdir(path_data)\n",
        "os.mkdir(os.path.join(path_data, path_train))\n",
        "os.mkdir(os.path.join(path_data, path_train,path_sep))\n",
        "os.mkdir(os.path.join(path_data, path_train,path_sep,path_sensor[0]))\n",
        "os.mkdir(os.path.join(path_data, path_train,path_sep,path_sensor[1]))\n",
        "os.mkdir(os.path.join(path_data, path_train,path_sep,path_sensor[2]))"
      ],
      "metadata": {
        "id": "uRFDJyFQSbTX"
      },
      "execution_count": 37,
      "outputs": []
    },
    {
      "cell_type": "code",
      "source": [
        "import matplotlib.pyplot as plt\n",
        "import rasterio as rio\n",
        "import numpy as np\n",
        "from tqdm import tqdm \n",
        "import cv2\n",
        "from numpy import savez_compressed\n",
        "import warnings\n",
        "from skimage.io import imread\n",
        "from imageio import imwrite\n",
        "warnings.filterwarnings(\"ignore\")\n",
        "\n",
        "months = ['September', 'October', 'November', 'December', 'January', 'February', 'March','April', 'May','June','July', 'August' ]\n",
        "c_s1 = 0\n",
        "c_s2 = 0\n",
        "m = months[11]\n",
        "\n",
        "def read_write_S1(intex):\n",
        "  path = df['s3path_us'][intex]\n",
        "  imagen = df['filename'][intex]\n",
        "  # bajo las imagenes\n",
        "  tem = !aws s3 cp {path} ./ --no-sign-request --quiet\n",
        "  # guardo imagen\n",
        "  x = imread(imagen)[...,(0,1,2)]\n",
        "  s1 = np.clip(x, -30, 0)*(-8.4)/ 255.\n",
        "  name_file = imagen.split('.')[0]\n",
        "  out_path = f'data/train/{m}/s1/{name_file}.png'\n",
        "  imwrite(f\"{out_path}\", np.round(s1*255).astype(np.uint8))\n",
        "  !rm {imagen}\n",
        "\n",
        "def read_write_S2(intex):\n",
        "  path = df['s3path_us'][intex]\n",
        "  imagen = df['filename'][intex]\n",
        "  tem = !aws s3 cp {path} ./ --no-sign-request --quiet\n",
        "  # imagen RGB\n",
        "  ds = rio.open(imagen)\n",
        "  r, g, b = ds.read(3), ds.read(2), ds.read(1) # tengo que bajar nuevamente \n",
        "  rgb = np.dstack((r,g,b))\n",
        "  rgb = np.clip(rgb/4000, 0, 1)\n",
        "  divide = np.max(rgb)/255\n",
        "  salvar = rgb//divide\n",
        "  imagen_salvar = imagen.split('.')[0]\n",
        "  out_path = f'data/train/{m}/s2/{imagen_salvar}'\n",
        "  cv2.imwrite(f\"{out_path}.png\", salvar) # en png\n",
        "  #!rm {imagen} \n",
        "\n",
        "def read_write_S3(intex):\n",
        "  #path = df['s3path_us'][intex]\n",
        "  imagen = df['filename'][intex]\n",
        "  #tem = !aws s3 cp {path} ./ --no-sign-request --quiet\n",
        "  ds = rio.open(imagen)\n",
        "  # ndv\n",
        "  red = ds.read(3).astype(np.float32)\n",
        "  nir = ds.read(7).astype(np.float32)\n",
        "  ndvi_ = (nir - red) / (nir + red + 1e-8)\n",
        "  ndvi_nom = (ndvi_+1)/2*255\n",
        "  ndvi_final = ndvi_nom.astype(np.uint8)\n",
        "  # ndwi\n",
        "  swir = ds.read(9).astype(np.float32)\n",
        "  nir = ds.read(7).astype(np.float32)\n",
        "  ndwi_ = (nir - swir) / (nir + swir + 1e-8)\n",
        "  ndwi_final = ((ndwi_+1)/2*255).astype(np.uint8)\n",
        "  # clouds \n",
        "  clouds = ds.read(11).astype(np.uint8)\n",
        "  clouds[clouds == 255] = 100\n",
        "  # convino los tres canales\n",
        "  rgb = np.dstack((ndvi_final,ndwi_final,clouds))\n",
        "  # me quedo con el nombre el archivo sin tif\n",
        "  name_file = imagen.split('.')[0]\n",
        "  # genero un path para un nuevo folder S3, esto es porque tendrán el mismo nombre que S2\n",
        "  out_path = f'data/train/{m}/s3/{name_file}.png'\n",
        "  cv2.imwrite(out_path, rgb)\n",
        "  !rm {imagen}\n",
        "\n",
        "for i in tqdm(range(len(df))): #range(len(df))\n",
        "  if df['satellite'][i] == 'S1':\n",
        "    if df['split'][i] == 'train':\n",
        "      if df['month'][i] == m:\n",
        "        read_write_S1(i)\n",
        "\n",
        "  if df['satellite'][i] == 'S2':\n",
        "    if df['split'][i] == 'train':\n",
        "      if df['month'][i] == months[11]:\n",
        "        read_write_S2(i)\n",
        "        read_write_S3(i)\n"
      ],
      "metadata": {
        "colab": {
          "base_uri": "https://localhost:8080/"
        },
        "id": "9njywIPkOVjx",
        "outputId": "295cb853-50a9-4278-bff2-2aa126ac818d"
      },
      "execution_count": 38,
      "outputs": [
        {
          "output_type": "stream",
          "name": "stderr",
          "text": [
            "100%|██████████| 252426/252426 [5:32:56<00:00, 12.64it/s]\n"
          ]
        }
      ]
    },
    {
      "cell_type": "code",
      "source": [
        "# genero un zip y hago una copia en Dirve\n",
        "%%capture\n",
        "!zip -r data.zip data"
      ],
      "metadata": {
        "id": "LnU5QWQIYyBm"
      },
      "execution_count": 39,
      "outputs": []
    },
    {
      "cell_type": "code",
      "source": [
        "!cp data.zip /content/drive/MyDrive"
      ],
      "metadata": {
        "id": "yQTH7-GcYzyH"
      },
      "execution_count": 40,
      "outputs": []
    },
    {
      "cell_type": "code",
      "source": [
        "!rm *.tif"
      ],
      "metadata": {
        "id": "NzlBL3rBWsy-"
      },
      "execution_count": 30,
      "outputs": []
    }
  ]
}