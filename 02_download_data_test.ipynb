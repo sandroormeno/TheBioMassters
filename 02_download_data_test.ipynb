{
  "nbformat": 4,
  "nbformat_minor": 0,
  "metadata": {
    "colab": {
      "provenance": []
    },
    "kernelspec": {
      "name": "python3",
      "display_name": "Python 3"
    },
    "language_info": {
      "name": "python"
    }
  },
  "cells": [
    {
      "cell_type": "code",
      "execution_count": 1,
      "metadata": {
        "id": "p8Ov5AzZBQqq"
      },
      "outputs": [],
      "source": [
        "import pandas as pd"
      ]
    },
    {
      "cell_type": "code",
      "source": [
        "url  = 'https://raw.githubusercontent.com/sandroormeno/TheBioMassters/main/features_metadata.csv'"
      ],
      "metadata": {
        "id": "DytX5t5TBhKo"
      },
      "execution_count": 2,
      "outputs": []
    },
    {
      "cell_type": "code",
      "source": [
        "df = pd.read_csv(url)\n",
        "df.head()"
      ],
      "metadata": {
        "colab": {
          "base_uri": "https://localhost:8080/",
          "height": 424
        },
        "id": "uY8fgw_1BjpM",
        "outputId": "0fcc7bc9-1e2b-4237-8b48-4a35dcfda682"
      },
      "execution_count": 3,
      "outputs": [
        {
          "output_type": "execute_result",
          "data": {
            "text/plain": [
              "             filename   chip_id satellite  split      month     size  \\\n",
              "0  0003d2eb_S1_00.tif  0003d2eb        S1  train  September  1049524   \n",
              "1  0003d2eb_S1_01.tif  0003d2eb        S1  train    October  1049524   \n",
              "2  0003d2eb_S1_02.tif  0003d2eb        S1  train   November  1049524   \n",
              "3  0003d2eb_S1_03.tif  0003d2eb        S1  train   December  1049524   \n",
              "4  0003d2eb_S1_04.tif  0003d2eb        S1  train    January  1049524   \n",
              "\n",
              "        cksum                                          s3path_us  \\\n",
              "0  3953454613  s3://drivendata-competition-biomassters-public...   \n",
              "1  3531005382  s3://drivendata-competition-biomassters-public...   \n",
              "2  1401197002  s3://drivendata-competition-biomassters-public...   \n",
              "3  3253084255  s3://drivendata-competition-biomassters-public...   \n",
              "4  2467836265  s3://drivendata-competition-biomassters-public...   \n",
              "\n",
              "                                           s3path_eu  \\\n",
              "0  s3://drivendata-competition-biomassters-public...   \n",
              "1  s3://drivendata-competition-biomassters-public...   \n",
              "2  s3://drivendata-competition-biomassters-public...   \n",
              "3  s3://drivendata-competition-biomassters-public...   \n",
              "4  s3://drivendata-competition-biomassters-public...   \n",
              "\n",
              "                                           s3path_as corresponding_agbm  \n",
              "0  s3://drivendata-competition-biomassters-public...  0003d2eb_agbm.tif  \n",
              "1  s3://drivendata-competition-biomassters-public...  0003d2eb_agbm.tif  \n",
              "2  s3://drivendata-competition-biomassters-public...  0003d2eb_agbm.tif  \n",
              "3  s3://drivendata-competition-biomassters-public...  0003d2eb_agbm.tif  \n",
              "4  s3://drivendata-competition-biomassters-public...  0003d2eb_agbm.tif  "
            ],
            "text/html": [
              "\n",
              "  <div id=\"df-1dfbc7b4-2173-4848-ae34-de030a57eece\">\n",
              "    <div class=\"colab-df-container\">\n",
              "      <div>\n",
              "<style scoped>\n",
              "    .dataframe tbody tr th:only-of-type {\n",
              "        vertical-align: middle;\n",
              "    }\n",
              "\n",
              "    .dataframe tbody tr th {\n",
              "        vertical-align: top;\n",
              "    }\n",
              "\n",
              "    .dataframe thead th {\n",
              "        text-align: right;\n",
              "    }\n",
              "</style>\n",
              "<table border=\"1\" class=\"dataframe\">\n",
              "  <thead>\n",
              "    <tr style=\"text-align: right;\">\n",
              "      <th></th>\n",
              "      <th>filename</th>\n",
              "      <th>chip_id</th>\n",
              "      <th>satellite</th>\n",
              "      <th>split</th>\n",
              "      <th>month</th>\n",
              "      <th>size</th>\n",
              "      <th>cksum</th>\n",
              "      <th>s3path_us</th>\n",
              "      <th>s3path_eu</th>\n",
              "      <th>s3path_as</th>\n",
              "      <th>corresponding_agbm</th>\n",
              "    </tr>\n",
              "  </thead>\n",
              "  <tbody>\n",
              "    <tr>\n",
              "      <th>0</th>\n",
              "      <td>0003d2eb_S1_00.tif</td>\n",
              "      <td>0003d2eb</td>\n",
              "      <td>S1</td>\n",
              "      <td>train</td>\n",
              "      <td>September</td>\n",
              "      <td>1049524</td>\n",
              "      <td>3953454613</td>\n",
              "      <td>s3://drivendata-competition-biomassters-public...</td>\n",
              "      <td>s3://drivendata-competition-biomassters-public...</td>\n",
              "      <td>s3://drivendata-competition-biomassters-public...</td>\n",
              "      <td>0003d2eb_agbm.tif</td>\n",
              "    </tr>\n",
              "    <tr>\n",
              "      <th>1</th>\n",
              "      <td>0003d2eb_S1_01.tif</td>\n",
              "      <td>0003d2eb</td>\n",
              "      <td>S1</td>\n",
              "      <td>train</td>\n",
              "      <td>October</td>\n",
              "      <td>1049524</td>\n",
              "      <td>3531005382</td>\n",
              "      <td>s3://drivendata-competition-biomassters-public...</td>\n",
              "      <td>s3://drivendata-competition-biomassters-public...</td>\n",
              "      <td>s3://drivendata-competition-biomassters-public...</td>\n",
              "      <td>0003d2eb_agbm.tif</td>\n",
              "    </tr>\n",
              "    <tr>\n",
              "      <th>2</th>\n",
              "      <td>0003d2eb_S1_02.tif</td>\n",
              "      <td>0003d2eb</td>\n",
              "      <td>S1</td>\n",
              "      <td>train</td>\n",
              "      <td>November</td>\n",
              "      <td>1049524</td>\n",
              "      <td>1401197002</td>\n",
              "      <td>s3://drivendata-competition-biomassters-public...</td>\n",
              "      <td>s3://drivendata-competition-biomassters-public...</td>\n",
              "      <td>s3://drivendata-competition-biomassters-public...</td>\n",
              "      <td>0003d2eb_agbm.tif</td>\n",
              "    </tr>\n",
              "    <tr>\n",
              "      <th>3</th>\n",
              "      <td>0003d2eb_S1_03.tif</td>\n",
              "      <td>0003d2eb</td>\n",
              "      <td>S1</td>\n",
              "      <td>train</td>\n",
              "      <td>December</td>\n",
              "      <td>1049524</td>\n",
              "      <td>3253084255</td>\n",
              "      <td>s3://drivendata-competition-biomassters-public...</td>\n",
              "      <td>s3://drivendata-competition-biomassters-public...</td>\n",
              "      <td>s3://drivendata-competition-biomassters-public...</td>\n",
              "      <td>0003d2eb_agbm.tif</td>\n",
              "    </tr>\n",
              "    <tr>\n",
              "      <th>4</th>\n",
              "      <td>0003d2eb_S1_04.tif</td>\n",
              "      <td>0003d2eb</td>\n",
              "      <td>S1</td>\n",
              "      <td>train</td>\n",
              "      <td>January</td>\n",
              "      <td>1049524</td>\n",
              "      <td>2467836265</td>\n",
              "      <td>s3://drivendata-competition-biomassters-public...</td>\n",
              "      <td>s3://drivendata-competition-biomassters-public...</td>\n",
              "      <td>s3://drivendata-competition-biomassters-public...</td>\n",
              "      <td>0003d2eb_agbm.tif</td>\n",
              "    </tr>\n",
              "  </tbody>\n",
              "</table>\n",
              "</div>\n",
              "      <button class=\"colab-df-convert\" onclick=\"convertToInteractive('df-1dfbc7b4-2173-4848-ae34-de030a57eece')\"\n",
              "              title=\"Convert this dataframe to an interactive table.\"\n",
              "              style=\"display:none;\">\n",
              "        \n",
              "  <svg xmlns=\"http://www.w3.org/2000/svg\" height=\"24px\"viewBox=\"0 0 24 24\"\n",
              "       width=\"24px\">\n",
              "    <path d=\"M0 0h24v24H0V0z\" fill=\"none\"/>\n",
              "    <path d=\"M18.56 5.44l.94 2.06.94-2.06 2.06-.94-2.06-.94-.94-2.06-.94 2.06-2.06.94zm-11 1L8.5 8.5l.94-2.06 2.06-.94-2.06-.94L8.5 2.5l-.94 2.06-2.06.94zm10 10l.94 2.06.94-2.06 2.06-.94-2.06-.94-.94-2.06-.94 2.06-2.06.94z\"/><path d=\"M17.41 7.96l-1.37-1.37c-.4-.4-.92-.59-1.43-.59-.52 0-1.04.2-1.43.59L10.3 9.45l-7.72 7.72c-.78.78-.78 2.05 0 2.83L4 21.41c.39.39.9.59 1.41.59.51 0 1.02-.2 1.41-.59l7.78-7.78 2.81-2.81c.8-.78.8-2.07 0-2.86zM5.41 20L4 18.59l7.72-7.72 1.47 1.35L5.41 20z\"/>\n",
              "  </svg>\n",
              "      </button>\n",
              "      \n",
              "  <style>\n",
              "    .colab-df-container {\n",
              "      display:flex;\n",
              "      flex-wrap:wrap;\n",
              "      gap: 12px;\n",
              "    }\n",
              "\n",
              "    .colab-df-convert {\n",
              "      background-color: #E8F0FE;\n",
              "      border: none;\n",
              "      border-radius: 50%;\n",
              "      cursor: pointer;\n",
              "      display: none;\n",
              "      fill: #1967D2;\n",
              "      height: 32px;\n",
              "      padding: 0 0 0 0;\n",
              "      width: 32px;\n",
              "    }\n",
              "\n",
              "    .colab-df-convert:hover {\n",
              "      background-color: #E2EBFA;\n",
              "      box-shadow: 0px 1px 2px rgba(60, 64, 67, 0.3), 0px 1px 3px 1px rgba(60, 64, 67, 0.15);\n",
              "      fill: #174EA6;\n",
              "    }\n",
              "\n",
              "    [theme=dark] .colab-df-convert {\n",
              "      background-color: #3B4455;\n",
              "      fill: #D2E3FC;\n",
              "    }\n",
              "\n",
              "    [theme=dark] .colab-df-convert:hover {\n",
              "      background-color: #434B5C;\n",
              "      box-shadow: 0px 1px 3px 1px rgba(0, 0, 0, 0.15);\n",
              "      filter: drop-shadow(0px 1px 2px rgba(0, 0, 0, 0.3));\n",
              "      fill: #FFFFFF;\n",
              "    }\n",
              "  </style>\n",
              "\n",
              "      <script>\n",
              "        const buttonEl =\n",
              "          document.querySelector('#df-1dfbc7b4-2173-4848-ae34-de030a57eece button.colab-df-convert');\n",
              "        buttonEl.style.display =\n",
              "          google.colab.kernel.accessAllowed ? 'block' : 'none';\n",
              "\n",
              "        async function convertToInteractive(key) {\n",
              "          const element = document.querySelector('#df-1dfbc7b4-2173-4848-ae34-de030a57eece');\n",
              "          const dataTable =\n",
              "            await google.colab.kernel.invokeFunction('convertToInteractive',\n",
              "                                                     [key], {});\n",
              "          if (!dataTable) return;\n",
              "\n",
              "          const docLinkHtml = 'Like what you see? Visit the ' +\n",
              "            '<a target=\"_blank\" href=https://colab.research.google.com/notebooks/data_table.ipynb>data table notebook</a>'\n",
              "            + ' to learn more about interactive tables.';\n",
              "          element.innerHTML = '';\n",
              "          dataTable['output_type'] = 'display_data';\n",
              "          await google.colab.output.renderOutput(dataTable, element);\n",
              "          const docLink = document.createElement('div');\n",
              "          docLink.innerHTML = docLinkHtml;\n",
              "          element.appendChild(docLink);\n",
              "        }\n",
              "      </script>\n",
              "    </div>\n",
              "  </div>\n",
              "  "
            ]
          },
          "metadata": {},
          "execution_count": 3
        }
      ]
    },
    {
      "cell_type": "code",
      "source": [
        "# all you need to install\n",
        "%%capture\n",
        "!pip install awscli\n",
        "!pip install rasterio"
      ],
      "metadata": {
        "id": "eVVVvAF9Bpcd"
      },
      "execution_count": 4,
      "outputs": []
    },
    {
      "cell_type": "code",
      "source": [
        "!rm -r sample_data"
      ],
      "metadata": {
        "id": "JbXfeE-eBse8"
      },
      "execution_count": 5,
      "outputs": []
    },
    {
      "cell_type": "code",
      "source": [
        "# esto crea las carpetas destino\n",
        "import os\n",
        "!rm -r '/content/data'\n",
        "path_data = \"data\"\n",
        "path_train = \"test\"\n",
        "path_sep = \"September\"\n",
        "path_sensor = ['s1', 's2', 's3']\n",
        "os.mkdir(path_data)\n",
        "os.mkdir(os.path.join(path_data, path_train))\n",
        "os.mkdir(os.path.join(path_data, path_train,path_sep))\n",
        "os.mkdir(os.path.join(path_data, path_train,path_sep,path_sensor[0]))\n",
        "os.mkdir(os.path.join(path_data, path_train,path_sep,path_sensor[1]))\n",
        "os.mkdir(os.path.join(path_data, path_train,path_sep,path_sensor[2]))"
      ],
      "metadata": {
        "colab": {
          "base_uri": "https://localhost:8080/"
        },
        "id": "DINPM3-TDfrn",
        "outputId": "7f5fec24-e384-4dd1-9bf8-57fbaeb24f75"
      },
      "execution_count": 12,
      "outputs": [
        {
          "output_type": "stream",
          "name": "stdout",
          "text": [
            "rm: cannot remove '/content/data': No such file or directory\n"
          ]
        }
      ]
    },
    {
      "cell_type": "code",
      "source": [
        "import matplotlib.pyplot as plt\n",
        "import rasterio as rio\n",
        "import numpy as np\n",
        "from tqdm import tqdm \n",
        "import cv2\n",
        "from numpy import savez_compressed\n",
        "import warnings\n",
        "from skimage.io import imread\n",
        "from imageio import imwrite\n",
        "warnings.filterwarnings(\"ignore\")\n",
        "\n",
        "months = ['September', 'October', 'November', 'December', 'January', 'February', 'March','April', 'May','June','July', 'August' ]\n",
        "c = 0\n",
        "c_s1 = 0\n",
        "c_s2 = 0\n",
        "m = months[0]\n",
        "\n",
        "\n",
        "def read_write_S1(intex):\n",
        "  path = df['s3path_us'][intex]\n",
        "  imagen = df['filename'][intex]\n",
        "  # bajo las imagenes\n",
        "  tem = !aws s3 cp {path} ./ --no-sign-request --quiet\n",
        "  # guardo imagen\n",
        "  x = imread(imagen)[...,(0,1,2)]\n",
        "  s1 = np.clip(x, -30, 0)*(-8.4)/ 255.\n",
        "  name_file = imagen.split('.')[0]\n",
        "  out_path = f'data/test/{m}/s1/{name_file}.png'\n",
        "  imwrite(f\"{out_path}\", np.round(s1*255).astype(np.uint8))\n",
        "  !rm {imagen}\n",
        "\n",
        "def read_write_S2(intex):\n",
        "  path = df['s3path_us'][intex]\n",
        "  imagen = df['filename'][intex]\n",
        "  tem = !aws s3 cp {path} ./ --no-sign-request --quiet\n",
        "  # imagen RGB\n",
        "  ds = rio.open(imagen)\n",
        "  r, g, b = ds.read(3), ds.read(2), ds.read(1) # tengo que bajar nuevamente \n",
        "  rgb = np.dstack((r,g,b))\n",
        "  rgb = np.clip(rgb/4000, 0, 1)\n",
        "  divide = np.max(rgb)/255\n",
        "  salvar = rgb//divide\n",
        "  imagen_salvar = imagen.split('.')[0]\n",
        "  out_path = f'data/test/{m}/s2/{imagen_salvar}'\n",
        "  cv2.imwrite(f\"{out_path}.png\", salvar) # en png\n",
        "  #!rm {imagen} \n",
        "\n",
        "def read_write_S3(intex):\n",
        "  #path = df['s3path_us'][intex]\n",
        "  imagen = df['filename'][intex]\n",
        "  #tem = !aws s3 cp {path} ./ --no-sign-request --quiet\n",
        "  ds = rio.open(imagen)\n",
        "  # ndv\n",
        "  red = ds.read(3).astype(np.float32)\n",
        "  nir = ds.read(7).astype(np.float32)\n",
        "  ndvi_ = (nir - red) / (nir + red + 1e-8)\n",
        "  ndvi_nom = (ndvi_+1)/2*255\n",
        "  ndvi_final = ndvi_nom.astype(np.uint8)\n",
        "  # ndwi\n",
        "  swir = ds.read(9).astype(np.float32)\n",
        "  nir = ds.read(7).astype(np.float32)\n",
        "  ndwi_ = (nir - swir) / (nir + swir + 1e-8)\n",
        "  ndwi_final = ((ndwi_+1)/2*255).astype(np.uint8)\n",
        "  # clouds \n",
        "  clouds = ds.read(11).astype(np.uint8)\n",
        "  clouds[clouds == 255] = 100\n",
        "  # convino los tres canales\n",
        "  rgb = np.dstack((ndvi_final,ndwi_final,clouds))\n",
        "  # me quedo con el nombre el archivo sin tif\n",
        "  name_file = imagen.split('.')[0]\n",
        "  # genero un path para un nuevo folder S3, esto es porque tendrán el mismo nombre que S2\n",
        "  out_path = f'data/test/{m}/s3/{name_file}.png'\n",
        "  cv2.imwrite(out_path, rgb)\n",
        "  !rm {imagen}\n",
        "\n",
        "\n",
        "for i in tqdm(range(len(df))): #range(len(df))\n",
        "  if df['satellite'][i] == 'S1':\n",
        "    if df['split'][i] == 'test':\n",
        "      if df['month'][i] == m:\n",
        "        read_write_S1(i)\n",
        "  if df['satellite'][i] == 'S2':\n",
        "    if df['split'][i] == 'test':\n",
        "      if df['month'][i] == m:\n",
        "        read_write_S2(i)\n",
        "        read_write_S3(i)\n",
        "        \n"
      ],
      "metadata": {
        "colab": {
          "base_uri": "https://localhost:8080/"
        },
        "id": "3TXs-BOTBwls",
        "outputId": "c7c7520e-3bf6-498c-a088-34e8fe489c6a"
      },
      "execution_count": 13,
      "outputs": [
        {
          "output_type": "stream",
          "name": "stderr",
          "text": [
            "100%|██████████| 252426/252426 [2:02:56<00:00, 34.22it/s]\n"
          ]
        }
      ]
    },
    {
      "cell_type": "code",
      "source": [
        "# genero un zip y hago una copia en Dirve\n",
        "%%capture\n",
        "!zip -r data.zip data"
      ],
      "metadata": {
        "id": "LpBDk4qAEG7E"
      },
      "execution_count": 14,
      "outputs": []
    },
    {
      "cell_type": "code",
      "source": [
        "!cp data.zip /content/drive/MyDrive"
      ],
      "metadata": {
        "id": "Y0usskRbEJUQ"
      },
      "execution_count": 15,
      "outputs": []
    }
  ]
}